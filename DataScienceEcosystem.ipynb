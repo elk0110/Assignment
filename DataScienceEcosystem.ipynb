{
 "cells": [
  {
   "cell_type": "markdown",
   "id": "9de12cec-433a-439e-b8f1-8d632c2bcee1",
   "metadata": {},
   "source": [
    "# Data Science Tools and Ecosystem"
   ]
  },
  {
   "cell_type": "markdown",
   "id": "d6737205-6a71-41c1-8b36-f0041f1641bb",
   "metadata": {},
   "source": [
    "In this notebook, Data Science Tools and Ecosystem are summarized."
   ]
  },
  {
   "cell_type": "markdown",
   "id": "edcec4b6-e5bd-4138-a027-5633e085d336",
   "metadata": {},
   "source": [
    "**Objectives:**"
   ]
  },
  {
   "cell_type": "markdown",
   "id": "990e056f-5fd1-45ab-8a49-ecb67113fcca",
   "metadata": {},
   "source": [
    "- List of Data Science languages\n",
    "- List of Data Science Libraries\n",
    "- List of Data Science Tools"
   ]
  },
  {
   "cell_type": "markdown",
   "id": "f8fb6bc2-0e85-4e99-9074-7534d08c7add",
   "metadata": {},
   "source": [
    "Some of the popular languages that Data Scientists use are:"
   ]
  },
  {
   "cell_type": "markdown",
   "id": "53818f41-116a-4afe-b502-b8d88a24fdef",
   "metadata": {},
   "source": [
    "1. Python\n",
    "2. MySQL\n",
    "3. Julia\n",
    "4. R "
   ]
  },
  {
   "cell_type": "markdown",
   "id": "7cca1dce-2611-4bc5-8276-5411749a811a",
   "metadata": {},
   "source": [
    "Some of the commonly used libraries used by Data Scientists include:"
   ]
  },
  {
   "cell_type": "markdown",
   "id": "8a4f53ee-55b8-4174-82ff-a573bab7fe1d",
   "metadata": {},
   "source": [
    "1. TensorFlow\n",
    "2. Pandas\n",
    "3. SciPy\n",
    "4. NumPy\n",
    "5. Keras"
   ]
  },
  {
   "cell_type": "markdown",
   "id": "706719d8-20db-4733-b83a-f2bf762945b1",
   "metadata": {},
   "source": [
    "| Data Science Tools |\n",
    "| ------------------ |\n",
    "|Jupyter Notebook| \n",
    "| Spark |\n",
    "| Hadoop |"
   ]
  },
  {
   "cell_type": "markdown",
   "id": "e9ce5e43-76bd-42d9-a4c1-34fe4aa792f7",
   "metadata": {},
   "source": [
    "## Below are a few examples of evaluating arithmetic expressions in Python"
   ]
  },
  {
   "cell_type": "code",
   "execution_count": 7,
   "id": "108eae33-6c96-4d8c-926d-1a73e1bad07a",
   "metadata": {
    "tags": []
   },
   "outputs": [
    {
     "data": {
      "text/plain": [
       "17"
      ]
     },
     "execution_count": 7,
     "metadata": {},
     "output_type": "execute_result"
    }
   ],
   "source": [
    "# This a simple arithmetic expression to mutiply then add integers\n",
    "(3*4)+5"
   ]
  },
  {
   "cell_type": "code",
   "execution_count": 9,
   "id": "d555d827-2bab-4268-97a6-682db2edf2a0",
   "metadata": {
    "tags": []
   },
   "outputs": [
    {
     "name": "stdout",
     "output_type": "stream",
     "text": [
      "3.3333333333333335\n"
     ]
    }
   ],
   "source": [
    "# This will convert 200 minutes to hours by diving by 60\n",
    "min= 200\n",
    "hours= min/60\n",
    "print(hours)"
   ]
  },
  {
   "cell_type": "markdown",
   "id": "537e1c6e-32f6-447c-a3e9-da4157d81252",
   "metadata": {},
   "source": [
    "## Author \n",
    "Eileen"
   ]
  },
  {
   "cell_type": "code",
   "execution_count": null,
   "id": "01751b89-d451-4ee9-bc36-4425cd6834bd",
   "metadata": {},
   "outputs": [],
   "source": []
  }
 ],
 "metadata": {
  "kernelspec": {
   "display_name": "Python",
   "language": "python",
   "name": "conda-env-python-py"
  },
  "language_info": {
   "codemirror_mode": {
    "name": "ipython",
    "version": 3
   },
   "file_extension": ".py",
   "mimetype": "text/x-python",
   "name": "python",
   "nbconvert_exporter": "python",
   "pygments_lexer": "ipython3",
   "version": "3.7.12"
  }
 },
 "nbformat": 4,
 "nbformat_minor": 5
}
